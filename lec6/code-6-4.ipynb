{
 "cells": [
  {
   "cell_type": "code",
   "execution_count": 1,
   "id": "3576066e",
   "metadata": {},
   "outputs": [
    {
     "name": "stdout",
     "output_type": "stream",
     "text": [
      "found the root of x2-8=0 at x= 2.828427\n"
     ]
    },
    {
     "data": {
      "image/png": "[encoded data removed]",
      "text/plain": [
       "<Figure size 432x288 with 1 Axes>"
      ]
     },
     "metadata": {
      "needs_background": "light"
     },
     "output_type": "display_data"
    }
   ],
   "source": [
    "# -*- coding: utf-8 -*-\n",
    "#弦割法\n",
    "import pylab as pl\n",
    "def f(x):# 定义函数\n",
    "    return x**2 - 8.0\n",
    "eps = 0.000001 #精度截断\n",
    "x1 = 0.5 #初始试探值\n",
    "x2 = 1.0 #初始试探值\n",
    "x3 = x2 - f(x2)*(x2-x1)/(f(x2)-f(x1))\n",
    "xroot = []\n",
    "iter = []\n",
    "N = 1000\n",
    "for i in range(0, N):\n",
    "    if (abs(f(x3)) < eps):\n",
    "        print(\"found the root of x2-8=0 at x= %0.6f\" %x3)\n",
    "        break\n",
    "    if (i == N-1):\n",
    "        print (\"\\n root not found after %d iterations\" %N)\n",
    "        break\n",
    "    x1 = x2\n",
    "    x2 = x3\n",
    "    x3 = x2 - f(x2)*(x2-x1)/(f(x2)-f(x1))\n",
    "    xroot.append(x3)\n",
    "    iter.append(i)\n",
    "#----plotting ------------------\n",
    "pl.plot(iter,xroot,'r-o',label='Chord Secant')\n",
    "pl.xlabel('iteration',fontsize=15)\n",
    "pl.ylabel('$x_0$',fontsize=15)\n",
    "pl.xlim(0,35)\n",
    "pl.ylim(1,3)\n",
    "pl.legend(loc='lower right',fontsize=15)\n",
    "pl.show()\n"
   ]
  },
  {
   "cell_type": "code",
   "execution_count": null,
   "id": "5f0f19c2",
   "metadata": {},
   "outputs": [],
   "source": []
  }
 ],
 "metadata": {
  "kernelspec": {
   "display_name": "Python 3 (ipykernel)",
   "language": "python",
   "name": "python3"
  },
  "language_info": {
   "codemirror_mode": {
    "name": "ipython",
    "version": 3
   },
   "file_extension": ".py",
   "mimetype": "text/x-python",
   "name": "python",
   "nbconvert_exporter": "python",
   "pygments_lexer": "ipython3",
   "version": "3.9.12"
  }
 },
 "nbformat": 4,
 "nbformat_minor": 5
}
