{
 "cells": [
  {
   "cell_type": "code",
   "execution_count": 1,
   "id": "82e3d58d",
   "metadata": {},
   "outputs": [
    {
     "name": "stdout",
     "output_type": "stream",
     "text": [
      "found the root of x2-5=0 at x= 2.828427\n"
     ]
    },
    {
     "data": {
      "image/png": "[encoded data removed]",
      "text/plain": [
       "<Figure size 432x288 with 1 Axes>"
      ]
     },
     "metadata": {
      "needs_background": "light"
     },
     "output_type": "display_data"
    }
   ],
   "source": [
    "# -*- coding: utf-8 -*-\n",
    "# 牛顿法\n",
    "import pylab as pl\n",
    "def f(x):# 定义函数\n",
    "    return x**2 - 8.0\n",
    "def fprim(x):\n",
    "    return 2*x\n",
    "eps = 0.000001 #精度截断\n",
    "xold = 1.0 #初始试探值\n",
    "x = xold - f(xold)/fprim(xold)\n",
    "xroot = []\n",
    "iter= []\n",
    "N = 1000\n",
    "\n",
    "for i in range(0, N):\n",
    "    xold = x\n",
    "    x = xold - f(xold)/fprim(xold)\n",
    "    xroot.append(x)\n",
    "    iter.append(i)\n",
    "\n",
    "    if (abs(f(x)) < eps):\n",
    "        print(\"found the root of x2-5=0 at x= %0.6f\" %x)\n",
    "        break\n",
    "    if (i == N-1):\n",
    "        print (\"\\n root not found after %d iterations\" %N)\n",
    "        break\n",
    "#----plotting ------------------\n",
    "pl.plot(iter,xroot,'r-o',label='Newton-Raphson')\n",
    "pl.xlabel('iteration',fontsize=15)\n",
    "pl.ylabel('$x_0$',fontsize=15)\n",
    "pl.xlim(0,35)\n",
    "pl.ylim(1,3.5)\n",
    "pl.legend(loc='lower right',fontsize=15)\n",
    "pl.show()\n",
    "#pl.savefig('Newton-Raphson.png', dpi=150) #将图存储为png格式文件\n"
   ]
  },
  {
   "cell_type": "code",
   "execution_count": null,
   "id": "1ff114ba",
   "metadata": {},
   "outputs": [],
   "source": []
  }
 ],
 "metadata": {
  "kernelspec": {
   "display_name": "Python 3 (ipykernel)",
   "language": "python",
   "name": "python3"
  },
  "language_info": {
   "codemirror_mode": {
    "name": "ipython",
    "version": 3
   },
   "file_extension": ".py",
   "mimetype": "text/x-python",
   "name": "python",
   "nbconvert_exporter": "python",
   "pygments_lexer": "ipython3",
   "version": "3.9.12"
  }
 },
 "nbformat": 4,
 "nbformat_minor": 5
}
