{
 "cells": [
  {
   "cell_type": "code",
   "execution_count": 7,
   "id": "11b8762b",
   "metadata": {},
   "outputs": [
    {
     "name": "stdout",
     "output_type": "stream",
     "text": [
      "k= 31.41838684082033\n"
     ]
    },
    {
     "data": {
      "image/png": "[encoded data removed]",
      "text/plain": [
       "<Figure size 432x288 with 1 Axes>"
      ]
     },
     "metadata": {
      "needs_background": "light"
     },
     "output_type": "display_data"
    }
   ],
   "source": [
    "# -*- coding: utf-8 -*-\n",
    "#无限深势阱本征值问题\n",
    "from numpy import zeros\n",
    "import pylab as pl\n",
    "# some parameters\n",
    "L = 1.0  # 区间长度\n",
    "N = 100  \n",
    "dt = L/N  #x步长\n",
    "eps = 0.000001 #精度阶段\n",
    "k =30.2  #k的初始试探值\n",
    "dk = 0.1  #k的初始步长\n",
    "freturn = zeros(2)\n",
    "psiphi = zeros(2)\n",
    "psiphitemp = zeros(2)\n",
    "x = zeros(N)\n",
    "psi = zeros(N)\n",
    "def f1(psiphi,k):  #定义子函数  \n",
    "    freturn[0] = -k*k*psiphi[1]   #phi的斜率 -k^2 psi\n",
    "    freturn[1] = psiphi[0] #psi的斜率  phi\n",
    "    return freturn\n",
    "def rk4(dt, k, N): #四阶龙格-库塔法求出给定k时，psi(1)的值\n",
    "    psiphi[0] = 0.01  #phi的初值，即左端点的phi值\n",
    "    psiphi[1] = 0.0 #psi的初值，即左端点的psi值\n",
    "    t = 0\n",
    "    for i in range(N):  \n",
    "        fR = f1(psiphi, k)\n",
    "        k1 = fR[0]\n",
    "        l1 = fR[1]\n",
    "\n",
    "        psiphitemp[0] = psiphi[0] + k1*dt/2\n",
    "        psiphitemp[1] = psiphi[1] + l1*dt/2\n",
    "        fR = f1(psiphitemp, k)\n",
    "        k2 = fR[0]\n",
    "        l2 = fR[1]\n",
    "\n",
    "        psiphitemp[0] = psiphi[0] + k2*dt/2\n",
    "        psiphitemp[1] = psiphi[1] + l2*dt/2\n",
    "        fR = f1(psiphitemp, k)\n",
    "        k3 = fR[0]\n",
    "        l3 = fR[1]\n",
    "\n",
    "        psiphitemp[0] = psiphi[0] + k3*dt\n",
    "        psiphitemp[1] = psiphi[1] + l3*dt\n",
    "        fR = f1(psiphitemp, k)\n",
    "        k4 = fR[0]\n",
    "        l4 = fR[1]\n",
    "\n",
    "        psiphi[0] = psiphi[0] + (k1 + 2*k2 + 2*k3 +k4)*dt/6\n",
    "        psiphi[1] = psiphi[1] + (l1 + 2*l2 + 2*l3 +l4)*dt/6\n",
    "\n",
    "        x[i] = t\n",
    "        psi[i] = psiphi[1]\n",
    "        t = t + dt\n",
    "    return psiphi\n",
    "psiphi = rk4(dt, k, N)\n",
    "phiold = psiphi[1]\n",
    "while abs(dk) > eps:  #搜索法求出满足psi(1)=0的k值\n",
    "    k = k + dk\n",
    "    psiphi = rk4(dt,k,N)\n",
    "    phinew = psiphi[1]\n",
    "    if phinew*phiold > 0:\n",
    "       continue\n",
    "    k = k - dk\n",
    "    dk = dk/2\n",
    "print('k=',k)\n",
    "pl.plot(x, psi, 'r-',linewidth=1.0)\n",
    "pl.xlabel('x',fontsize=15)\n",
    "pl.ylabel('$\\psi$',fontsize=15)\n",
    "pl.show()"
   ]
  },
  {
   "cell_type": "code",
   "execution_count": null,
   "id": "1a24eb29",
   "metadata": {},
   "outputs": [],
   "source": []
  }
 ],
 "metadata": {
  "kernelspec": {
   "display_name": "Python 3 (ipykernel)",
   "language": "python",
   "name": "python3"
  },
  "language_info": {
   "codemirror_mode": {
    "name": "ipython",
    "version": 3
   },
   "file_extension": ".py",
   "mimetype": "text/x-python",
   "name": "python",
   "nbconvert_exporter": "python",
   "pygments_lexer": "ipython3",
   "version": "3.9.12"
  }
 },
 "nbformat": 4,
 "nbformat_minor": 5
}
