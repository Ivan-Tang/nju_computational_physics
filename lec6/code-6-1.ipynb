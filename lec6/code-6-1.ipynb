{
 "cells": [
  {
   "cell_type": "code",
   "execution_count": 2,
   "id": "bc25c67f",
   "metadata": {},
   "outputs": [
    {
     "data": {
      "image/png": "[encoded data removed]",
      "text/plain": [
       "<Figure size 432x288 with 1 Axes>"
      ]
     },
     "metadata": {
      "needs_background": "light"
     },
     "output_type": "display_data"
    },
    {
     "name": "stdout",
     "output_type": "stream",
     "text": [
      "found the root of x2-8=0 at x= 2.828427\n",
      "34\n"
     ]
    }
   ],
   "source": [
    "# -*- coding: utf-8 -*-\n",
    "# 搜索法\n",
    "import pylab as pl\n",
    "#  defining function form\n",
    "\n",
    "def f(x):  #定义函数\n",
    "    return x**2 - 8.0\n",
    "\n",
    "eps = 0.000001 # 精度截断\n",
    "dx = 1.0  # 初始步长\n",
    "x=1     # 初始试探值\n",
    "\n",
    "fold = f(x)  \n",
    "count = 0  #计数器\n",
    "xroot = [] #空列表存储每步的根\n",
    "iter = []  #空列表存储迭代次数\n",
    "\n",
    "while abs(fold) > eps:  #搜索根\n",
    "   count = count + 1\n",
    "   x = x + dx\n",
    "   fnew = f(x)\n",
    "   if fnew*fold < 0:\n",
    "      x = x - dx\n",
    "      dx = dx/2\n",
    "   fold = f(x)\n",
    "   xroot.append(x)\n",
    "   iter.append(count)\n",
    "#----plotting ------------------\n",
    "pl.plot(iter,xroot,'r-o',label='search')\n",
    "pl.xlabel('iteraion step',fontsize=15)\n",
    "pl.ylabel('$x_0$',fontsize=15)\n",
    "pl.xlim(0,35)\n",
    "pl.ylim(1,3.5)\n",
    "pl.legend(loc='lower right',fontsize=15)\n",
    "pl.show()\n",
    "print(\"found the root of x2-8=0 at x= %0.6f\" %x)\n",
    "print(count)\n"
   ]
  },
  {
   "cell_type": "code",
   "execution_count": null,
   "id": "8e82efdf",
   "metadata": {},
   "outputs": [],
   "source": []
  }
 ],
 "metadata": {
  "kernelspec": {
   "display_name": "Python 3 (ipykernel)",
   "language": "python",
   "name": "python3"
  },
  "language_info": {
   "codemirror_mode": {
    "name": "ipython",
    "version": 3
   },
   "file_extension": ".py",
   "mimetype": "text/x-python",
   "name": "python",
   "nbconvert_exporter": "python",
   "pygments_lexer": "ipython3",
   "version": "3.9.12"
  }
 },
 "nbformat": 4,
 "nbformat_minor": 5
}
