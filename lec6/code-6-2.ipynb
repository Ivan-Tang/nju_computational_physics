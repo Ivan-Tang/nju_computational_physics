{
 "cells": [
  {
   "cell_type": "code",
   "execution_count": 1,
   "id": "0d342eae",
   "metadata": {},
   "outputs": [
    {
     "name": "stdout",
     "output_type": "stream",
     "text": [
      "found the root of x2-5=0 at x= 2.828427\n"
     ]
    },
    {
     "data": {
      "image/png": "[encoded data removed]",
      "text/plain": [
       "<Figure size 432x288 with 1 Axes>"
      ]
     },
     "metadata": {
      "needs_background": "light"
     },
     "output_type": "display_data"
    }
   ],
   "source": [
    "# -*- coding: utf-8 -*-\n",
    "# 二分法\n",
    "import pylab as pl\n",
    "def f(x): # 定义函数\n",
    "    return x**2 - 8.0\n",
    "eps = 0.000001 #精度截断\n",
    "xa = 0.0  #初始区间\n",
    "xb = 20.0  #初始区间\n",
    "count = 0  #计数器\n",
    "xroot = []\n",
    "iter = []\n",
    "N = 1000\n",
    "for i in range(0, N):\n",
    "    x = (xa + xb)/2\n",
    "    fa = f(xa)\n",
    "    fb = f(xb)\n",
    "    fx = f(x)    \n",
    "    xroot.append(x)\n",
    "    iter.append(i)\n",
    "    if (fa*fx > 0.):\n",
    "        xa = x\n",
    "    else:\n",
    "        xb = x\n",
    "    if (abs(fx) < eps):\n",
    "        print(\"found the root of x2-5=0 at x= %0.6f\" %x)\n",
    "        break\n",
    "\n",
    "#----plotting ------------------\n",
    "pl.plot(iter,xroot,'r-o',label='bisection')\n",
    "pl.xlabel('iteration',fontsize=15)\n",
    "pl.ylabel('$x_0$',fontsize=15)\n",
    "pl.xlim(0,35)\n",
    "pl.ylim(1.5,4.5)\n",
    "pl.legend(loc='lower right',fontsize=15)\n",
    "pl.show()\n"
   ]
  },
  {
   "cell_type": "code",
   "execution_count": null,
   "id": "91fa70a3",
   "metadata": {},
   "outputs": [],
   "source": []
  }
 ],
 "metadata": {
  "kernelspec": {
   "display_name": "Python 3 (ipykernel)",
   "language": "python",
   "name": "python3"
  },
  "language_info": {
   "codemirror_mode": {
    "name": "ipython",
    "version": 3
   },
   "file_extension": ".py",
   "mimetype": "text/x-python",
   "name": "python",
   "nbconvert_exporter": "python",
   "pygments_lexer": "ipython3",
   "version": "3.9.12"
  }
 },
 "nbformat": 4,
 "nbformat_minor": 5
}
