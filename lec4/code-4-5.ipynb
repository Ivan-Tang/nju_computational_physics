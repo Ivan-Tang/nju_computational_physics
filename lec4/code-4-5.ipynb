{
 "cells": [
  {
   "cell_type": "code",
   "execution_count": 1,
   "id": "4748ad47",
   "metadata": {
    "scrolled": false
   },
   "outputs": [],
   "source": [
    "# -*- coding: utf-8 -*-\n",
    "import matplotlib.animation as animation\n",
    "import numpy as np\n",
    "import pylab as pl\n",
    "\n",
    "%matplotlib qt5   \n",
    "\n",
    "PI=3.1415927\n",
    "tau=0.02\n",
    "h=0.02\n",
    "L=1.0\n",
    "v=1\n",
    "A=v*tau/h\n",
    "NX = 50\n",
    "NT = 4000\n",
    "\n",
    "Y = np.zeros([NX+1,NT+1],dtype=float)\n",
    "Time = np.arange(0,NT+1,1)\n",
    "X = np.arange(0,(NX+1)*h,h)\n",
    "\n",
    "#boundary condition\n",
    "Y[0,0:NT+1]=0.0\n",
    "Y[NX,0:NT+1]=0.0\n",
    "\n",
    "#initial  condition\n",
    "Y[0:NX+1,0]=np.sin(1*PI*X[0:NX+1]/L)+np.sin(8*PI*X[0:NX+1]/L) #y(x,0)=sin(pi*x/L)\n",
    "Y[1:NX,1]=(1-A**2)*Y[1:NX,0]+A**2*(Y[2:NX+1,0]+Y[0:NX-1,0])/2\n",
    "\n",
    "for k in range(1,NT): \n",
    "    Y[1:NX,k+1]=2.0*(1-A**2)*Y[1:NX,k]+A**2*(Y[2:NX+1,k]+Y[0:NX-1,k])-Y[1:NX,k-1]\n",
    "\n",
    "# visualization----------------------------\n",
    "def animate(i):\n",
    "    line.set_ydata(Y[:,i])\n",
    "    return line,\n",
    "\n",
    "def updata_line(num,X,Y,line):\n",
    "    line.set_data(X[num],Y[num])\n",
    "    return line,\n",
    "\n",
    "fig1 = pl.figure()\n",
    "line, = pl.plot(X,Y[:,0],'r-',lw=2.0)\n",
    "pl.xlim(0, 1)\n",
    "pl.ylim(-2, 2)\n",
    "pl.xlabel('X')\n",
    "pl.ylabel('Y')\n",
    "pl.title('String')\n",
    "ani = animation.FuncAnimation(fig1,animate,interval=1,blit=False, save_count=1)\n",
    "#ani.save('Brownian.mp4',fps=30)\n",
    "pl.show()"
   ]
  },
  {
   "cell_type": "code",
   "execution_count": null,
   "id": "47f160dc",
   "metadata": {},
   "outputs": [],
   "source": []
  }
 ],
 "metadata": {
  "kernelspec": {
   "display_name": "Python 3 (ipykernel)",
   "language": "python",
   "name": "python3"
  },
  "language_info": {
   "codemirror_mode": {
    "name": "ipython",
    "version": 3
   },
   "file_extension": ".py",
   "mimetype": "text/x-python",
   "name": "python",
   "nbconvert_exporter": "python",
   "pygments_lexer": "ipython3",
   "version": "3.9.12"
  }
 },
 "nbformat": 4,
 "nbformat_minor": 5
}
