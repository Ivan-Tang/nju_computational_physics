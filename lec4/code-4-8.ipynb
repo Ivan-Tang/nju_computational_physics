{
 "cells": [
  {
   "cell_type": "code",
   "execution_count": 3,
   "id": "28e6c97f",
   "metadata": {},
   "outputs": [
    {
     "name": "stdout",
     "output_type": "stream",
     "text": [
      "1\n",
      "2\n",
      "3\n",
      "4\n",
      "5\n",
      "6\n",
      "7\n",
      "8\n",
      "9\n",
      "10\n",
      "11\n",
      "12\n",
      "13\n",
      "14\n",
      "15\n",
      "16\n",
      "17\n",
      "18\n",
      "19\n",
      "20\n"
     ]
    },
    {
     "name": "stderr",
     "output_type": "stream",
     "text": [
      "/var/folders/rs/pvvplnqd697d6fxs93287s5c0000gn/T/ipykernel_20852/2712785241.py:59: MatplotlibDeprecationWarning: Axes3D(fig) adding itself to the figure is deprecated since 3.4. Pass the keyword argument auto_add_to_figure=False and use fig.add_axes(ax) to suppress this warning. The default value of auto_add_to_figure will change to False in mpl3.5 and True values will no longer work in 3.6.  This is consistent with other Axes classes.\n",
      "  ax1 = Axes3D(fig)\n"
     ]
    }
   ],
   "source": [
    "import numpy as np\n",
    "import pylab as pl\n",
    "from mpl_toolkits.mplot3d import Axes3D\n",
    "import sys\n",
    "%matplotlib qt5\n",
    "\n",
    "dx = 0.4; dt = 0.1; alpha = 0.1; eps = 0.2 #参数\n",
    "NT = 2000\n",
    "NX = 131\n",
    "U = np.zeros([NX,3])\n",
    "spl = np.zeros([NX,21])\n",
    "m = 1\n",
    "\n",
    "for i in range(0,NX):    #初始条件\n",
    "    U[i,0] = 0.5*(1-np.tanh(0.2*dx*i-5.0))\n",
    "\n",
    "U[0,1] = 1.0; U[0,2] = 1.0; U[130,1] = 0.0; U[130,2] = 0.0\n",
    "\n",
    "for i in range(0,NX,2): spl[i,0]=U[i,0] # for plotting\n",
    "\n",
    "fac = alpha*dt/dx**3\n",
    "for i in range(1,NX-1):\n",
    "    a1 = eps*dt*(U[i+1,0]+U[i,0]+U[i-1,0])/dx/6\n",
    "    if i>1 and i<NX-2:\n",
    "        a2 = U[i+2,0]+2*U[i-1,0]-2*U[i+1,0]-U[i-2,0]\n",
    "    else:\n",
    "        a2 = U[i-1,0]-U[i+1,0]\n",
    "    a3 = U[i+1,0]-U[i-1,0]\n",
    "    U[i,1] = U[i,0] - a1*a3 - fac*a2/2\n",
    "\n",
    "for k in range(1,NT+1):\n",
    "    for i in range(1,NX-2):\n",
    "        a1 = eps*dt*(U[i+1,1]+U[i,1]+U[i-1,1])/dx/3\n",
    "        if i>1 and i<NX-2:\n",
    "            a2 = U[i+2,1]+2*U[i-1,1]-2*U[i+1,1]-U[i-2,1]\n",
    "        else:\n",
    "            a2 = U[i-1,1]-U[i+1,1]\n",
    "        a3 = U[i+1,1]-U[i-1,1]\n",
    "        U[i,2] = U[i,0] - a1*a3 - fac*a2\n",
    "\n",
    "    if k%100 == 0:\n",
    "        for i in range(1,NX-2):\n",
    "            spl[i,m] = U[i,2]\n",
    "        print(m)\n",
    "        m = m + 1\n",
    "    for i in range(0,NX):\n",
    "        U[i,0] = U[i,1]\n",
    "        U[i,1] = U[i,2]\n",
    "\n",
    "X = np.arange(0,NX,2)\n",
    "Y = np.arange(0,21)\n",
    "X, Y = np.meshgrid(X, Y)\n",
    "\n",
    "def functz(spl):\n",
    "    z = spl[X,Y]\n",
    "    return z\n",
    "\n",
    "fig = pl.figure()\n",
    "ax1 = Axes3D(fig)\n",
    "ax1.plot_wireframe(X,Y,spl[X,Y],color='r')\n",
    "ax1.set_xlabel(r'position', fontsize=20)\n",
    "ax1.set_ylabel(r'Time', fontsize=20)\n",
    "ax1.set_zlabel(r'Disturbance', fontsize=20)\n",
    "pl.show()"
   ]
  },
  {
   "cell_type": "code",
   "execution_count": null,
   "id": "2666a8af",
   "metadata": {},
   "outputs": [],
   "source": []
  }
 ],
 "metadata": {
  "kernelspec": {
   "display_name": "Python 3 (ipykernel)",
   "language": "python",
   "name": "python3"
  },
  "language_info": {
   "codemirror_mode": {
    "name": "ipython",
    "version": 3
   },
   "file_extension": ".py",
   "mimetype": "text/x-python",
   "name": "python",
   "nbconvert_exporter": "python",
   "pygments_lexer": "ipython3",
   "version": "3.8.12"
  }
 },
 "nbformat": 4,
 "nbformat_minor": 5
}
