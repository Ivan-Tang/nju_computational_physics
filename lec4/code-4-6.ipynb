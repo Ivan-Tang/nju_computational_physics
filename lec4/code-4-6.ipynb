{
 "cells": [
  {
   "cell_type": "code",
   "execution_count": 5,
   "id": "ded93fd0",
   "metadata": {},
   "outputs": [
    {
     "name": "stderr",
     "output_type": "stream",
     "text": [
      "/var/folders/r_/6nwjb98j0qnbwf88jk21pxmr0000gn/T/ipykernel_22528/2543383296.py:35: MatplotlibDeprecationWarning: Axes3D(fig) adding itself to the figure is deprecated since 3.4. Pass the keyword argument auto_add_to_figure=False and use fig.add_axes(ax) to suppress this warning. The default value of auto_add_to_figure will change to False in mpl3.5 and True values will no longer work in 3.6.  This is consistent with other Axes classes.\n",
      "  ax1 = Axes3D(fig)\n"
     ]
    }
   ],
   "source": [
    "# -*- coding: utf-8 -*-\n",
    "import numpy as np\n",
    "import pylab as pl\n",
    "from mpl_toolkits.mplot3d import Axes3D\n",
    "\n",
    "%matplotlib qt5   \n",
    "\n",
    "\n",
    "PI=3.1415927\n",
    "h=PI/70\n",
    "v=1\n",
    "tau=0.02\n",
    "A=v*tau/h\n",
    "NX = 70\n",
    "NY = 70\n",
    "NT = 250\n",
    "U = np.zeros([NX+1,NY+1,NT+1])\n",
    "X = np.arange(0,(NX+1)*h,h)\n",
    "Y = np.arange(0,(NY+1)*h,h)\n",
    "\n",
    "for k in range(0,NT+1): #边界条件 y\n",
    "    U[0:NX+1,0,k]=0\n",
    "    U[0:NX+1,NY,k]=0\n",
    "for k in range(0,NT+1):#边界条件 x\n",
    "    U[0,0:NY+1,k]=0\n",
    "    U[NX,0:NY+1,k]=0\n",
    "        \n",
    "U[0:NX+1,0:NY+1,0]=3*np.sin(X[0:NX+1])*np.sin(2*Y[0:NY+1])#u(x,t) = sin(x)sin(y)\n",
    "U[0:NX+1,0:NY+1,1]=3*np.sin(X[0:NX+1])*np.sin(2*Y[0:NY+1])#u(x,t) = sin(x)sin(y)\n",
    "\n",
    "for k in range(1,NT): #有限差分\n",
    "    U[1:NX,1:NY,k+1]=2*U[1:NX,1:NY,k]-U[1:NX,1:NY,k-1]+A**2*(U[2:NX+1,1:NY,k]+ \\\n",
    "                     U[0:NX-1,1:NY,k]-4*U[1:NX,1:NY,k]+U[1:NX,2:NY+1,k]+U[1:NX,0:NY-1,k])\n",
    "fig = pl.figure()\n",
    "ax1 = Axes3D(fig)\n",
    "X, Y = np.meshgrid(X, Y)\n",
    "#Z = U[X,Y,5]\n",
    "ax1.plot_wireframe(X,Y,U[:,:,60],color='r')\n",
    "ax1.set_ylabel(r'Y', fontsize=20)\n",
    "ax1.set_xlabel(r'X', fontsize=20)\n",
    "ax1.set_zlabel(r'U(X,Y)', fontsize=20)\n",
    "pl.show()"
   ]
  },
  {
   "cell_type": "code",
   "execution_count": null,
   "id": "6fbed4f5",
   "metadata": {},
   "outputs": [],
   "source": []
  }
 ],
 "metadata": {
  "kernelspec": {
   "display_name": "Python 3 (ipykernel)",
   "language": "python",
   "name": "python3"
  },
  "language_info": {
   "codemirror_mode": {
    "name": "ipython",
    "version": 3
   },
   "file_extension": ".py",
   "mimetype": "text/x-python",
   "name": "python",
   "nbconvert_exporter": "python",
   "pygments_lexer": "ipython3",
   "version": "3.9.12"
  }
 },
 "nbformat": 4,
 "nbformat_minor": 5
}
