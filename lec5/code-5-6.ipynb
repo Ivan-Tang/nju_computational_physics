{
 "cells": [
  {
   "cell_type": "code",
   "execution_count": 16,
   "id": "459b0e0b",
   "metadata": {},
   "outputs": [
    {
     "name": "stderr",
     "output_type": "stream",
     "text": [
      "/var/folders/r_/6nwjb98j0qnbwf88jk21pxmr0000gn/T/ipykernel_73185/653004504.py:50: MatplotlibDeprecationWarning: Axes3D(fig) adding itself to the figure is deprecated since 3.4. Pass the keyword argument auto_add_to_figure=False and use fig.add_axes(ax) to suppress this warning. The default value of auto_add_to_figure will change to False in mpl3.5 and True values will no longer work in 3.6.  This is consistent with other Axes classes.\n",
      "  ax3 = Axes3D(fig2)\n"
     ]
    }
   ],
   "source": [
    "# -*- coding: utf-8 -*-\n",
    "from numpy import arange, zeros, linalg, histogram, meshgrid, reshape, sqrt\n",
    "import pylab as pl\n",
    "from mpl_toolkits.mplot3d import Axes3D\n",
    "\n",
    "%matplotlib qt5\n",
    "n=900\n",
    "n0 = 30\n",
    "a = zeros([n,n])\n",
    "for i in range(n): #构建连接矩阵\n",
    "    for j in range(n):\n",
    "\n",
    "        if(i == j + 1):\n",
    "            a[i,j] = -1.\n",
    "        if(j == i + 1):\n",
    "            a[i,j] = -1.\n",
    "        if(i==j+n0 and j+n0<n):\n",
    "            a[i,j] = -1\n",
    "        if(j==i+n0 and i+n0<n):\n",
    "            a[i,j] = -1\n",
    "        if(i == j):\n",
    "            a[i,j] = 4\n",
    "            \n",
    "eigenValues,eigenVectors = linalg.eigh(a) #计算本征值，本征向量\n",
    "eigenValues=sqrt(eigenValues)\n",
    "prob, edge = histogram(eigenValues,bins = 15)#直方图计算频谱\n",
    "xedge = 0.5*(edge[0:-1]+edge[1:])\n",
    "\n",
    "index=arange(n)\n",
    "#  ploting\n",
    "fig = pl.figure(figsize=(12,4))\n",
    "ax1 =fig.add_subplot(1,2,1)\n",
    "ax2 =fig.add_subplot(1,2,2)\n",
    "ax1.plot(index,eigenValues,'ro',label='mode')#输出本征值\n",
    "ax2.plot(xedge,prob,'r-',label='spectrum') #输出频率分布\n",
    "ax1.set_xlabel(r'mode id', fontsize=20)\n",
    "ax1.set_ylabel(r'frequence', fontsize=20)\n",
    "ax2.set_xlabel(r'frequence', fontsize=20)\n",
    "ax2.set_ylabel(r'Prob', fontsize=20)\n",
    "pl.legend(loc='upper left')\n",
    "\n",
    "#------------------------------\n",
    "Amplitude = eigenVectors.T[4,:]\n",
    "Amplitude0=reshape(Amplitude,(n0,n0))\n",
    "X=arange(0,n0)\n",
    "Y=arange(0,n0)\n",
    "X, Y = meshgrid(X, Y)\n",
    "\n",
    "fig2 = pl.figure()\n",
    "ax3 = Axes3D(fig2)\n",
    "ax3.plot_wireframe(X,Y,Amplitude0,color='r')#输出指定本征向量\n",
    "ax3.set_ylabel(r'Y', fontsize=20)\n",
    "ax3.set_xlabel(r'X', fontsize=20)\n",
    "ax3.set_zlabel(r'Amplitude', fontsize=20)\n",
    "pl.show()"
   ]
  },
  {
   "cell_type": "code",
   "execution_count": null,
   "id": "a23338da",
   "metadata": {},
   "outputs": [],
   "source": []
  }
 ],
 "metadata": {
  "kernelspec": {
   "display_name": "Python 3 (ipykernel)",
   "language": "python",
   "name": "python3"
  },
  "language_info": {
   "codemirror_mode": {
    "name": "ipython",
    "version": 3
   },
   "file_extension": ".py",
   "mimetype": "text/x-python",
   "name": "python",
   "nbconvert_exporter": "python",
   "pygments_lexer": "ipython3",
   "version": "3.9.12"
  }
 },
 "nbformat": 4,
 "nbformat_minor": 5
}
