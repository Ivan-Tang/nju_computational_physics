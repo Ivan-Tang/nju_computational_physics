{
 "cells": [
  {
   "cell_type": "code",
   "execution_count": 1,
   "id": "b88e5443",
   "metadata": {},
   "outputs": [
    {
     "name": "stdout",
     "output_type": "stream",
     "text": [
      "x= [0.35714286 0.28571429 0.07142857]\n"
     ]
    }
   ],
   "source": [
    "# -*- coding: utf-8 -*-\n",
    "from numpy import array, empty\n",
    "A = array([[ 2.0,  0.0,  4.0],  #系数矩阵\n",
    "           [ 2.0,  1.0,  0.0],\n",
    "           [ 1.0, -1.0, -1.0]])\n",
    "b = array([1.0, 1.0, 0.0]) #常数项向量\n",
    "N = len(b)\n",
    "# Gaussian elimination\n",
    "for m in range(N):\n",
    "    #divid by the diagonal element\n",
    "    div = A[m,m]\n",
    "    A[m,:] = A[m,:]/div  #除以每行主元\n",
    "    b[m] = b[m]/div\n",
    "\n",
    "    # substract from the lower rows\n",
    "    for i in range(m+1,N):\n",
    "        mult = A[i,m]\n",
    "        A[i,:] = A[i,:] - A[m,:]*mult\n",
    "        b[i] = b[i] - b[m]*mult\n",
    "\n",
    "# 回代\n",
    "x = empty(N)\n",
    "for m in range(N-1,-1,-1):\n",
    "    x[m] = b[m]\n",
    "    for i in range(m+1,N):\n",
    "        x[m] = x[m] - A[m,i]*x[i]\n",
    "# output results\n",
    "print(\"x=\",x)"
   ]
  },
  {
   "cell_type": "code",
   "execution_count": null,
   "id": "f3c9900f",
   "metadata": {},
   "outputs": [],
   "source": []
  }
 ],
 "metadata": {
  "kernelspec": {
   "display_name": "Python 3 (ipykernel)",
   "language": "python",
   "name": "python3"
  },
  "language_info": {
   "codemirror_mode": {
    "name": "ipython",
    "version": 3
   },
   "file_extension": ".py",
   "mimetype": "text/x-python",
   "name": "python",
   "nbconvert_exporter": "python",
   "pygments_lexer": "ipython3",
   "version": "3.9.12"
  }
 },
 "nbformat": 4,
 "nbformat_minor": 5
}
