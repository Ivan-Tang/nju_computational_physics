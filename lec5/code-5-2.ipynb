{
 "cells": [
  {
   "cell_type": "code",
   "execution_count": 1,
   "id": "6660aa3f",
   "metadata": {},
   "outputs": [
    {
     "name": "stdout",
     "output_type": "stream",
     "text": [
      "x= [0.35714286 0.28571429 0.07142857]\n"
     ]
    }
   ],
   "source": [
    "# -*- coding: utf-8 -*-\n",
    "from numpy import array, linalg\n",
    "A = array([[ 2.0,  0.0,  4.0],\n",
    "           [ 2.0,  1.0,  0.0],\n",
    "           [ 1.0, -1.0, -1.0]])\n",
    "b = array([1.0, 1.0, 0.0])\n",
    "x = linalg.solve(A,b) #线性方程求解函数（LU）\n",
    "print(\"x=\",x)\n"
   ]
  },
  {
   "cell_type": "code",
   "execution_count": null,
   "id": "22261ae5",
   "metadata": {},
   "outputs": [],
   "source": []
  }
 ],
 "metadata": {
  "kernelspec": {
   "display_name": "Python 3 (ipykernel)",
   "language": "python",
   "name": "python3"
  },
  "language_info": {
   "codemirror_mode": {
    "name": "ipython",
    "version": 3
   },
   "file_extension": ".py",
   "mimetype": "text/x-python",
   "name": "python",
   "nbconvert_exporter": "python",
   "pygments_lexer": "ipython3",
   "version": "3.9.12"
  }
 },
 "nbformat": 4,
 "nbformat_minor": 5
}
