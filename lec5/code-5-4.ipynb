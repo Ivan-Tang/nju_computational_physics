{
 "cells": [
  {
   "cell_type": "code",
   "execution_count": 1,
   "id": "916b5f08",
   "metadata": {},
   "outputs": [
    {
     "name": "stdout",
     "output_type": "stream",
     "text": [
      "inverse of A= [[ 0.05263158 -0.15789474  0.42105263  0.57894737 -0.63157895  0.21052632]\n",
      " [-0.21052632 -0.36842105  0.31578947 -0.31578947 -1.47368421 -0.84210526]\n",
      " [ 0.26315789  0.21052632  0.10526316 -0.10526316  0.84210526  1.05263158]\n",
      " [-0.28947368 -0.13157895  0.18421053  0.31578947 -0.52631579 -0.15789474]\n",
      " [-0.07894737  0.23684211 -0.13157895 -0.36842105 -0.05263158 -0.31578947]\n",
      " [-0.02631579  0.07894737  0.28947368  0.21052632  0.31578947 -0.10526316]]\n"
     ]
    }
   ],
   "source": [
    "# -*- coding: utf-8 -*-\n",
    "from numpy import array, linalg\n",
    "A = array([[ 2.0,  0.0, -1.0, -4.0,  0.0,  0.0],\n",
    "           [ 2.0, -1.0,  0.0,  0.0,  4.0,  0.0],\n",
    "           [ 0.0,  1.0,  1.0,  0.0,  0.0,  2.0],\n",
    "           [ 1.0, -1.0, -1.0,  0.0,  0.0,  0.0],\n",
    "           [-1.0,  0.0,  0.0,  0.0, -1.0,  1.0],\n",
    "           [ 0.0,  0.0,  1.0,  1.0,  0.0, -1.0]])\n",
    "# using linalg module\n",
    "X = linalg.inv(A)\n",
    "print(\"inverse of A=\",X)\n"
   ]
  },
  {
   "cell_type": "code",
   "execution_count": null,
   "id": "aedcf170",
   "metadata": {},
   "outputs": [],
   "source": []
  }
 ],
 "metadata": {
  "kernelspec": {
   "display_name": "Python 3 (ipykernel)",
   "language": "python",
   "name": "python3"
  },
  "language_info": {
   "codemirror_mode": {
    "name": "ipython",
    "version": 3
   },
   "file_extension": ".py",
   "mimetype": "text/x-python",
   "name": "python",
   "nbconvert_exporter": "python",
   "pygments_lexer": "ipython3",
   "version": "3.9.12"
  }
 },
 "nbformat": 4,
 "nbformat_minor": 5
}
