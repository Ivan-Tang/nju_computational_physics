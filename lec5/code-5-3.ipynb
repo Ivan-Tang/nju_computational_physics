{
 "cells": [
  {
   "cell_type": "code",
   "execution_count": 2,
   "id": "bf2b528c",
   "metadata": {},
   "outputs": [
    {
     "name": "stdout",
     "output_type": "stream",
     "text": [
      "x= [-0.10526316 -0.57894737  0.47368421 -0.42105263  0.15789474  0.05263158]\n"
     ]
    }
   ],
   "source": [
    "# -*- coding: utf-8 -*-\n",
    "from numpy import array, linalg\n",
    "A = array([[ 2.0,  0.0, -1.0, -4.0,  0.0,  0.0],\n",
    "           [ 2.0, -1.0,  0.0,  0.0,  4.0,  0.0],\n",
    "           [ 0.0,  1.0,  1.0,  0.0,  0.0,  2.0],\n",
    "           [ 1.0, -1.0, -1.0,  0.0,  0.0,  0.0],\n",
    "           [-1.0,  0.0,  0.0,  0.0, -1.0,  1.0],\n",
    "           [ 0.0,  0.0,  1.0,  1.0,  0.0, -1.0]])\n",
    "b = array([1.0, 1.0, 0.0,0.0, 0.0, 0.0])\n",
    "x = linalg.solve(A,b)\n",
    "print(\"x=\",x)\n"
   ]
  },
  {
   "cell_type": "code",
   "execution_count": null,
   "id": "148030fa",
   "metadata": {},
   "outputs": [],
   "source": []
  }
 ],
 "metadata": {
  "kernelspec": {
   "display_name": "Python 3 (ipykernel)",
   "language": "python",
   "name": "python3"
  },
  "language_info": {
   "codemirror_mode": {
    "name": "ipython",
    "version": 3
   },
   "file_extension": ".py",
   "mimetype": "text/x-python",
   "name": "python",
   "nbconvert_exporter": "python",
   "pygments_lexer": "ipython3",
   "version": "3.9.12"
  }
 },
 "nbformat": 4,
 "nbformat_minor": 5
}
